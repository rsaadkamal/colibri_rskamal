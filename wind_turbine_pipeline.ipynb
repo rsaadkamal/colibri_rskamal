{
 "cells": [
  {
   "cell_type": "code",
   "execution_count": 0,
   "metadata": {
    "application/vnd.databricks.v1+cell": {
     "cellMetadata": {
      "byteLimit": 2048000,
      "rowLimit": 10000
     },
     "inputWidgets": {},
     "nuid": "9b749b65-5bc9-411c-9a62-09538dbb6037",
     "showTitle": false,
     "tableResultSettingsMap": {},
     "title": ""
    }
   },
   "outputs": [],
   "source": [
    "from pyspark.sql import SparkSession, Window\n",
    "from pyspark.sql.types import StructType, StructField, StringType, IntegerType, DoubleType\n",
    "from pyspark.sql import functions as F\n",
    "from pyspark.sql.functions import (\n",
    "    col, lit, when, year, month, dayofmonth, hour, dayofweek, quarter,\n",
    "    min, max, avg, stddev, variance, count, mean, to_date, date_format, \n",
    "    monotonically_increasing_id, isnan\n",
    ")"
   ]
  },
  {
   "cell_type": "markdown",
   "metadata": {
    "application/vnd.databricks.v1+cell": {
     "cellMetadata": {
      "byteLimit": 2048000,
      "rowLimit": 10000
     },
     "inputWidgets": {},
     "nuid": "8c02237a-d0bf-46da-acf2-57ebb1a72d77",
     "showTitle": false,
     "tableResultSettingsMap": {},
     "title": ""
    }
   },
   "source": [
    "Bronze Layer - Ingestion"
   ]
  },
  {
   "cell_type": "code",
   "execution_count": 0,
   "metadata": {
    "application/vnd.databricks.v1+cell": {
     "cellMetadata": {
      "byteLimit": 2048000,
      "rowLimit": 10000
     },
     "inputWidgets": {},
     "nuid": "048a8647-3839-430d-9b43-266db5383a80",
     "showTitle": false,
     "tableResultSettingsMap": {},
     "title": ""
    }
   },
   "outputs": [
    {
     "output_type": "display_data",
     "data": {
      "text/html": [
       "<style scoped>\n",
       "  .table-result-container {\n",
       "    max-height: 300px;\n",
       "    overflow: auto;\n",
       "  }\n",
       "  table, th, td {\n",
       "    border: 1px solid black;\n",
       "    border-collapse: collapse;\n",
       "  }\n",
       "  th, td {\n",
       "    padding: 5px;\n",
       "  }\n",
       "  th {\n",
       "    text-align: left;\n",
       "  }\n",
       "</style><div class='table-result-container'><table class='table-result'><thead style='background-color: white'><tr><th>timestamp</th><th>turbine_id</th><th>wind_speed</th><th>wind_direction</th><th>power_output</th></tr></thead><tbody><tr><td>2022-03-01 00:00:00</td><td>11</td><td>9.1</td><td>269.0</td><td>2.9</td></tr><tr><td>2022-03-01 00:00:00</td><td>12</td><td>11.3</td><td>316.0</td><td>2.5</td></tr><tr><td>2022-03-01 00:00:00</td><td>13</td><td>11.2</td><td>148.0</td><td>3.7</td></tr><tr><td>2022-03-01 00:00:00</td><td>14</td><td>10.7</td><td>97.0</td><td>1.6</td></tr><tr><td>2022-03-01 00:00:00</td><td>15</td><td>11.0</td><td>81.0</td><td>4.4</td></tr><tr><td>2022-03-01 01:00:00</td><td>11</td><td>12.3</td><td>245.0</td><td>1.8</td></tr><tr><td>2022-03-01 01:00:00</td><td>12</td><td>11.0</td><td>293.0</td><td>2.2</td></tr><tr><td>2022-03-01 01:00:00</td><td>13</td><td>11.4</td><td>270.0</td><td>1.9</td></tr><tr><td>2022-03-01 01:00:00</td><td>14</td><td>10.4</td><td>140.0</td><td>2.3</td></tr><tr><td>2022-03-01 01:00:00</td><td>15</td><td>14.6</td><td>283.0</td><td>4.3</td></tr><tr><td>2022-03-01 02:00:00</td><td>11</td><td>14.3</td><td>135.0</td><td>2.9</td></tr><tr><td>2022-03-01 02:00:00</td><td>12</td><td>9.1</td><td>358.0</td><td>3.2</td></tr><tr><td>2022-03-01 02:00:00</td><td>13</td><td>13.7</td><td>67.0</td><td>3.1</td></tr><tr><td>2022-03-01 02:00:00</td><td>14</td><td>9.2</td><td>89.0</td><td>2.7</td></tr><tr><td>2022-03-01 02:00:00</td><td>15</td><td>9.7</td><td>303.0</td><td>4.5</td></tr><tr><td>2022-03-01 03:00:00</td><td>11</td><td>9.6</td><td>171.0</td><td>2.6</td></tr><tr><td>2022-03-01 03:00:00</td><td>12</td><td>11.0</td><td>175.0</td><td>2.4</td></tr><tr><td>2022-03-01 03:00:00</td><td>13</td><td>13.0</td><td>42.0</td><td>4.1</td></tr><tr><td>2022-03-01 03:00:00</td><td>14</td><td>13.6</td><td>198.0</td><td>3.1</td></tr><tr><td>2022-03-01 03:00:00</td><td>15</td><td>9.3</td><td>162.0</td><td>3.8</td></tr></tbody></table></div>"
      ]
     },
     "metadata": {
      "application/vnd.databricks.v1+output": {
       "addedWidgets": {},
       "aggData": [],
       "aggError": "",
       "aggOverflow": false,
       "aggSchema": [],
       "aggSeriesLimitReached": false,
       "aggType": "",
       "arguments": {},
       "columnCustomDisplayInfos": {},
       "data": [
        [
         "2022-03-01 00:00:00",
         11,
         9.1,
         269.0,
         2.9
        ],
        [
         "2022-03-01 00:00:00",
         12,
         11.3,
         316.0,
         2.5
        ],
        [
         "2022-03-01 00:00:00",
         13,
         11.2,
         148.0,
         3.7
        ],
        [
         "2022-03-01 00:00:00",
         14,
         10.7,
         97.0,
         1.6
        ],
        [
         "2022-03-01 00:00:00",
         15,
         11.0,
         81.0,
         4.4
        ],
        [
         "2022-03-01 01:00:00",
         11,
         12.3,
         245.0,
         1.8
        ],
        [
         "2022-03-01 01:00:00",
         12,
         11.0,
         293.0,
         2.2
        ],
        [
         "2022-03-01 01:00:00",
         13,
         11.4,
         270.0,
         1.9
        ],
        [
         "2022-03-01 01:00:00",
         14,
         10.4,
         140.0,
         2.3
        ],
        [
         "2022-03-01 01:00:00",
         15,
         14.6,
         283.0,
         4.3
        ],
        [
         "2022-03-01 02:00:00",
         11,
         14.3,
         135.0,
         2.9
        ],
        [
         "2022-03-01 02:00:00",
         12,
         9.1,
         358.0,
         3.2
        ],
        [
         "2022-03-01 02:00:00",
         13,
         13.7,
         67.0,
         3.1
        ],
        [
         "2022-03-01 02:00:00",
         14,
         9.2,
         89.0,
         2.7
        ],
        [
         "2022-03-01 02:00:00",
         15,
         9.7,
         303.0,
         4.5
        ],
        [
         "2022-03-01 03:00:00",
         11,
         9.6,
         171.0,
         2.6
        ],
        [
         "2022-03-01 03:00:00",
         12,
         11.0,
         175.0,
         2.4
        ],
        [
         "2022-03-01 03:00:00",
         13,
         13.0,
         42.0,
         4.1
        ],
        [
         "2022-03-01 03:00:00",
         14,
         13.6,
         198.0,
         3.1
        ],
        [
         "2022-03-01 03:00:00",
         15,
         9.3,
         162.0,
         3.8
        ]
       ],
       "datasetInfos": [],
       "dbfsResultPath": null,
       "isJsonSchema": true,
       "metadata": {},
       "overflow": false,
       "plotOptions": {
        "customPlotOptions": {},
        "displayType": "table",
        "pivotAggregation": null,
        "pivotColumns": null,
        "xColumns": null,
        "yColumns": null
       },
       "removedWidgets": [],
       "schema": [
        {
         "metadata": "{}",
         "name": "timestamp",
         "type": "\"string\""
        },
        {
         "metadata": "{}",
         "name": "turbine_id",
         "type": "\"integer\""
        },
        {
         "metadata": "{}",
         "name": "wind_speed",
         "type": "\"double\""
        },
        {
         "metadata": "{}",
         "name": "wind_direction",
         "type": "\"double\""
        },
        {
         "metadata": "{}",
         "name": "power_output",
         "type": "\"double\""
        }
       ],
       "type": "table"
      }
     },
     "output_type": "display_data"
    }
   ],
   "source": [
    "# Define schema for Bronze Layer\n",
    "bronze_schema = StructType([\n",
    "    StructField(\"timestamp\", StringType(), True),\n",
    "    StructField(\"turbine_id\", IntegerType(), True),\n",
    "    StructField(\"wind_speed\", DoubleType(), True),\n",
    "    StructField(\"wind_direction\", DoubleType(), True),\n",
    "    StructField(\"power_output\", DoubleType(), True)\n",
    "])\n",
    "\n",
    "# Step 1: Bronze Layer\n",
    "bronze_df = (\n",
    "    spark.read.format(\"csv\")\n",
    "    .option(\"header\", \"true\")\n",
    "    .schema(bronze_schema)\n",
    "    .load(\"/FileStore/colibri/*.csv\")\n",
    ")\n",
    "\n",
    "# Data Quality Checks\n",
    "\n",
    "# 1. Check for duplicate rows\n",
    "if bronze_df.count() != bronze_df.dropDuplicates().count():\n",
    "    print(\"Soft warning: Duplicate rows found in Bronze Layer!\")\n",
    "\n",
    "# 2. Check for nulls in critical fields\n",
    "critical_fields = [\"timestamp\", \"turbine_id\", \"power_output\"]\n",
    "null_critical_fields = bronze_df.select(\n",
    "    [col(f).isNull().alias(f\"{f}_is_null\") for f in critical_fields]\n",
    ").filter(\n",
    "    col(f\"{critical_fields[0]}_is_null\") |\n",
    "    col(f\"{critical_fields[1]}_is_null\") |\n",
    "    col(f\"{critical_fields[2]}_is_null\")\n",
    ").count()\n",
    "\n",
    "if null_critical_fields > 0:\n",
    "    raise ValueError(f\"Null values found in critical fields of Bronze Layer! ({null_critical_fields} rows)\")\n",
    "\n",
    "# 3. Check for invalid or null dates\n",
    "invalid_dates = bronze_df.withColumn(\"date\", to_date(\"timestamp\")).filter(col(\"date\").isNull()).count()\n",
    "if invalid_dates > 0:\n",
    "    print(f\"Invalid or null timestamps found in {invalid_dates} rows!\")\n",
    "\n",
    "# 4. Check for unreasonable ranges in numerical fields\n",
    "wind_speed_range = (0, 100)  # Example: 0 to 100 m/s\n",
    "wind_direction_range = (0, 360)  # Example: 0 to 360 degrees\n",
    "power_output_range = (0, 5000)  # Example: 0 to 5000 MW\n",
    "\n",
    "out_of_range_count = bronze_df.filter(\n",
    "    (col(\"wind_speed\") < wind_speed_range[0]) | (col(\"wind_speed\") > wind_speed_range[1]) |\n",
    "    (col(\"wind_direction\") < wind_direction_range[0]) | (col(\"wind_direction\") > wind_direction_range[1]) |\n",
    "    (col(\"power_output\") < power_output_range[0]) | (col(\"power_output\") > power_output_range[1])\n",
    ").count()\n",
    "\n",
    "if out_of_range_count > 0:\n",
    "    print(f\"Soft warning: Found {out_of_range_count} rows with out-of-range values in Bronze Layer!\")\n",
    "\n",
    "# 5. Check for non-numeric or NaN values in numerical fields\n",
    "nan_count = bronze_df.select(\n",
    "    [isnan(col(f)).alias(f\"{f}_is_nan\") for f in [\"wind_speed\", \"wind_direction\", \"power_output\"]]\n",
    ").filter(\n",
    "    col(\"wind_speed_is_nan\") | col(\"wind_direction_is_nan\") | col(\"power_output_is_nan\")\n",
    ").count()\n",
    "\n",
    "if nan_count > 0:\n",
    "    print(f\"Soft warning: NaN values found in numerical fields ({nan_count} rows)!\")\n",
    "\n",
    "# Save Bronze Layer\n",
    "bronze_df.write.format(\"delta\").mode(\"overwrite\").partitionBy(\"turbine_id\").saveAsTable(\"bronze_turbine_data\")\n",
    "display(bronze_df.limit(20))\n"
   ]
  },
  {
   "cell_type": "markdown",
   "metadata": {
    "application/vnd.databricks.v1+cell": {
     "cellMetadata": {
      "byteLimit": 2048000,
      "rowLimit": 10000
     },
     "inputWidgets": {},
     "nuid": "ad20c5e5-6086-4593-9039-5cf30f95a5e1",
     "showTitle": false,
     "tableResultSettingsMap": {},
     "title": ""
    }
   },
   "source": [
    "Silver layer - Processing"
   ]
  },
  {
   "cell_type": "code",
   "execution_count": 0,
   "metadata": {
    "application/vnd.databricks.v1+cell": {
     "cellMetadata": {
      "byteLimit": 2048000,
      "rowLimit": 10000
     },
     "inputWidgets": {},
     "nuid": "0aaefe32-5c6d-430e-b77c-a2b0cd159735",
     "showTitle": false,
     "tableResultSettingsMap": {},
     "title": ""
    }
   },
   "outputs": [
    {
     "output_type": "display_data",
     "data": {
      "text/html": [
       "<style scoped>\n",
       "  .table-result-container {\n",
       "    max-height: 300px;\n",
       "    overflow: auto;\n",
       "  }\n",
       "  table, th, td {\n",
       "    border: 1px solid black;\n",
       "    border-collapse: collapse;\n",
       "  }\n",
       "  th, td {\n",
       "    padding: 5px;\n",
       "  }\n",
       "  th {\n",
       "    text-align: left;\n",
       "  }\n",
       "</style><div class='table-result-container'><table class='table-result'><thead style='background-color: white'><tr><th>timestamp</th><th>turbine_id</th><th>wind_speed</th><th>wind_direction</th><th>power_output</th></tr></thead><tbody><tr><td>2022-03-07 04:00:00</td><td>1</td><td>9.7</td><td>44.0</td><td>2.7</td></tr><tr><td>2022-03-23 19:00:00</td><td>1</td><td>12.0</td><td>87.0</td><td>1.7</td></tr><tr><td>2022-03-24 15:00:00</td><td>1</td><td>14.8</td><td>311.0</td><td>3.8</td></tr><tr><td>2022-03-30 01:00:00</td><td>1</td><td>13.4</td><td>321.0</td><td>2.9</td></tr><tr><td>2022-03-15 00:00:00</td><td>1</td><td>13.1</td><td>216.0</td><td>2.6</td></tr><tr><td>2022-03-19 03:00:00</td><td>1</td><td>13.8</td><td>10.0</td><td>2.6</td></tr><tr><td>2022-03-30 14:00:00</td><td>1</td><td>10.5</td><td>195.0</td><td>2.1</td></tr><tr><td>2022-03-05 18:00:00</td><td>1</td><td>12.6</td><td>162.0</td><td>4.2</td></tr><tr><td>2022-03-28 12:00:00</td><td>1</td><td>12.2</td><td>223.0</td><td>2.4</td></tr><tr><td>2022-03-04 20:00:00</td><td>1</td><td>9.4</td><td>126.0</td><td>3.4</td></tr><tr><td>2022-03-05 19:00:00</td><td>1</td><td>14.8</td><td>328.0</td><td>3.5</td></tr><tr><td>2022-03-19 04:00:00</td><td>1</td><td>14.7</td><td>171.0</td><td>4.0</td></tr><tr><td>2022-03-20 21:00:00</td><td>1</td><td>9.5</td><td>144.0</td><td>2.7</td></tr><tr><td>2022-03-22 17:00:00</td><td>1</td><td>12.8</td><td>220.0</td><td>3.8</td></tr><tr><td>2022-03-14 16:00:00</td><td>1</td><td>14.7</td><td>181.0</td><td>4.3</td></tr><tr><td>2022-03-22 11:00:00</td><td>1</td><td>11.8</td><td>173.0</td><td>4.0</td></tr><tr><td>2022-03-30 08:00:00</td><td>1</td><td>11.2</td><td>5.0</td><td>4.4</td></tr><tr><td>2022-03-03 07:00:00</td><td>1</td><td>10.5</td><td>225.0</td><td>2.6</td></tr><tr><td>2022-03-27 05:00:00</td><td>1</td><td>12.7</td><td>334.0</td><td>4.0</td></tr><tr><td>2022-03-31 05:00:00</td><td>1</td><td>13.0</td><td>232.0</td><td>2.1</td></tr></tbody></table></div>"
      ]
     },
     "metadata": {
      "application/vnd.databricks.v1+output": {
       "addedWidgets": {},
       "aggData": [],
       "aggError": "",
       "aggOverflow": false,
       "aggSchema": [],
       "aggSeriesLimitReached": false,
       "aggType": "",
       "arguments": {},
       "columnCustomDisplayInfos": {},
       "data": [
        [
         "2022-03-07 04:00:00",
         1,
         9.7,
         44.0,
         2.7
        ],
        [
         "2022-03-23 19:00:00",
         1,
         12.0,
         87.0,
         1.7
        ],
        [
         "2022-03-24 15:00:00",
         1,
         14.8,
         311.0,
         3.8
        ],
        [
         "2022-03-30 01:00:00",
         1,
         13.4,
         321.0,
         2.9
        ],
        [
         "2022-03-15 00:00:00",
         1,
         13.1,
         216.0,
         2.6
        ],
        [
         "2022-03-19 03:00:00",
         1,
         13.8,
         10.0,
         2.6
        ],
        [
         "2022-03-30 14:00:00",
         1,
         10.5,
         195.0,
         2.1
        ],
        [
         "2022-03-05 18:00:00",
         1,
         12.6,
         162.0,
         4.2
        ],
        [
         "2022-03-28 12:00:00",
         1,
         12.2,
         223.0,
         2.4
        ],
        [
         "2022-03-04 20:00:00",
         1,
         9.4,
         126.0,
         3.4
        ],
        [
         "2022-03-05 19:00:00",
         1,
         14.8,
         328.0,
         3.5
        ],
        [
         "2022-03-19 04:00:00",
         1,
         14.7,
         171.0,
         4.0
        ],
        [
         "2022-03-20 21:00:00",
         1,
         9.5,
         144.0,
         2.7
        ],
        [
         "2022-03-22 17:00:00",
         1,
         12.8,
         220.0,
         3.8
        ],
        [
         "2022-03-14 16:00:00",
         1,
         14.7,
         181.0,
         4.3
        ],
        [
         "2022-03-22 11:00:00",
         1,
         11.8,
         173.0,
         4.0
        ],
        [
         "2022-03-30 08:00:00",
         1,
         11.2,
         5.0,
         4.4
        ],
        [
         "2022-03-03 07:00:00",
         1,
         10.5,
         225.0,
         2.6
        ],
        [
         "2022-03-27 05:00:00",
         1,
         12.7,
         334.0,
         4.0
        ],
        [
         "2022-03-31 05:00:00",
         1,
         13.0,
         232.0,
         2.1
        ]
       ],
       "datasetInfos": [],
       "dbfsResultPath": null,
       "isJsonSchema": true,
       "metadata": {},
       "overflow": false,
       "plotOptions": {
        "customPlotOptions": {},
        "displayType": "table",
        "pivotAggregation": null,
        "pivotColumns": null,
        "xColumns": null,
        "yColumns": null
       },
       "removedWidgets": [],
       "schema": [
        {
         "metadata": "{}",
         "name": "timestamp",
         "type": "\"string\""
        },
        {
         "metadata": "{}",
         "name": "turbine_id",
         "type": "\"integer\""
        },
        {
         "metadata": "{}",
         "name": "wind_speed",
         "type": "\"double\""
        },
        {
         "metadata": "{}",
         "name": "wind_direction",
         "type": "\"double\""
        },
        {
         "metadata": "{}",
         "name": "power_output",
         "type": "\"double\""
        }
       ],
       "type": "table"
      }
     },
     "output_type": "display_data"
    }
   ],
   "source": [
    "#Step 3: Silver \n",
    "\n",
    "bronze_df = bronze_df.dropDuplicates()\n",
    "\n",
    "# Calculate average values within each turbine_id group\n",
    "turbine_window = Window.partitionBy(\"turbine_id\")\n",
    "filled_df = (\n",
    "    bronze_df\n",
    "    .withColumn(\n",
    "        \"wind_speed\",\n",
    "        F.when(F.col(\"wind_speed\").isNull(), F.avg(\"wind_speed\").over(turbine_window)).otherwise(F.col(\"wind_speed\"))\n",
    "    )\n",
    "    .withColumn(\n",
    "        \"wind_direction\",\n",
    "        F.when(F.col(\"wind_direction\").isNull(), F.avg(\"wind_direction\").over(turbine_window)).otherwise(F.col(\"wind_direction\"))\n",
    "    )\n",
    "    .withColumn(\n",
    "        \"power_output\",\n",
    "        F.when(F.col(\"power_output\").isNull(), F.avg(\"power_output\").over(turbine_window)).otherwise(F.col(\"power_output\"))\n",
    "    )\n",
    ")\n",
    "\n",
    "### ANOMALY REMOVAL ### \n",
    "\n",
    "# Define the columns to process\n",
    "stats_columns = [\"wind_speed\", \"wind_direction\", \"power_output\"]\n",
    "\n",
    "# Initialize cleaned DataFrame with the original filled DataFrame\n",
    "cleaned_df = filled_df\n",
    "\n",
    "for column in stats_columns:\n",
    "    # Calculate Q1, Q3, and IQR for the column\n",
    "    q1, q3 = filled_df.approxQuantile(column, [0.25, 0.75], 0)\n",
    "    iqr = q3 - q1\n",
    "    lower_bound = q1 - 1.5 * iqr\n",
    "    upper_bound = q3 + 1.5 * iqr\n",
    "\n",
    "    # Filter rows based on the IQR bounds\n",
    "    silver_df = cleaned_df.filter((col(column) >= lower_bound) & (col(column) <= upper_bound))\n",
    "\n",
    "# Save Silver Layer\n",
    "silver_df.write.format(\"delta\").mode(\"overwrite\").partitionBy(\"turbine_id\").saveAsTable(\"silver_turbine_data\")\n",
    "display(silver_df.limit(20))"
   ]
  },
  {
   "cell_type": "markdown",
   "metadata": {
    "application/vnd.databricks.v1+cell": {
     "cellMetadata": {
      "byteLimit": 2048000,
      "rowLimit": 10000
     },
     "inputWidgets": {},
     "nuid": "04653ec9-43b1-4f45-aad5-2635c8dc87e6",
     "showTitle": false,
     "tableResultSettingsMap": {},
     "title": ""
    }
   },
   "source": [
    "Gold layer - Processing & Warehousing "
   ]
  },
  {
   "cell_type": "code",
   "execution_count": 0,
   "metadata": {
    "application/vnd.databricks.v1+cell": {
     "cellMetadata": {
      "byteLimit": 2048000,
      "rowLimit": 10000
     },
     "inputWidgets": {},
     "nuid": "3dbf1dc3-1860-4509-a4f5-bcf642bd35f1",
     "showTitle": false,
     "tableResultSettingsMap": {},
     "title": ""
    }
   },
   "outputs": [
    {
     "output_type": "display_data",
     "data": {
      "text/html": [
       "<style scoped>\n",
       "  .table-result-container {\n",
       "    max-height: 300px;\n",
       "    overflow: auto;\n",
       "  }\n",
       "  table, th, td {\n",
       "    border: 1px solid black;\n",
       "    border-collapse: collapse;\n",
       "  }\n",
       "  th, td {\n",
       "    padding: 5px;\n",
       "  }\n",
       "  th {\n",
       "    text-align: left;\n",
       "  }\n",
       "</style><div class='table-result-container'><table class='table-result'><thead style='background-color: white'><tr><th>record_sid</th><th>turbine_id</th><th>wind_speed</th><th>wind_direction</th><th>power_output</th><th>timestamp</th><th>date_key</th></tr></thead><tbody><tr><td>0</td><td>1</td><td>9.7</td><td>44.0</td><td>2.7</td><td>2022-03-07 04:00:00</td><td>20220307</td></tr><tr><td>1</td><td>1</td><td>12.0</td><td>87.0</td><td>1.7</td><td>2022-03-23 19:00:00</td><td>20220323</td></tr><tr><td>2</td><td>1</td><td>14.8</td><td>311.0</td><td>3.8</td><td>2022-03-24 15:00:00</td><td>20220324</td></tr><tr><td>3</td><td>1</td><td>13.4</td><td>321.0</td><td>2.9</td><td>2022-03-30 01:00:00</td><td>20220330</td></tr><tr><td>4</td><td>1</td><td>13.1</td><td>216.0</td><td>2.6</td><td>2022-03-15 00:00:00</td><td>20220315</td></tr><tr><td>5</td><td>1</td><td>13.8</td><td>10.0</td><td>2.6</td><td>2022-03-19 03:00:00</td><td>20220319</td></tr><tr><td>6</td><td>1</td><td>10.5</td><td>195.0</td><td>2.1</td><td>2022-03-30 14:00:00</td><td>20220330</td></tr><tr><td>7</td><td>1</td><td>12.6</td><td>162.0</td><td>4.2</td><td>2022-03-05 18:00:00</td><td>20220305</td></tr><tr><td>8</td><td>1</td><td>12.2</td><td>223.0</td><td>2.4</td><td>2022-03-28 12:00:00</td><td>20220328</td></tr><tr><td>9</td><td>1</td><td>9.4</td><td>126.0</td><td>3.4</td><td>2022-03-04 20:00:00</td><td>20220304</td></tr><tr><td>10</td><td>1</td><td>14.8</td><td>328.0</td><td>3.5</td><td>2022-03-05 19:00:00</td><td>20220305</td></tr><tr><td>11</td><td>1</td><td>14.7</td><td>171.0</td><td>4.0</td><td>2022-03-19 04:00:00</td><td>20220319</td></tr><tr><td>12</td><td>1</td><td>9.5</td><td>144.0</td><td>2.7</td><td>2022-03-20 21:00:00</td><td>20220320</td></tr><tr><td>13</td><td>1</td><td>12.8</td><td>220.0</td><td>3.8</td><td>2022-03-22 17:00:00</td><td>20220322</td></tr><tr><td>14</td><td>1</td><td>14.7</td><td>181.0</td><td>4.3</td><td>2022-03-14 16:00:00</td><td>20220314</td></tr><tr><td>15</td><td>1</td><td>11.8</td><td>173.0</td><td>4.0</td><td>2022-03-22 11:00:00</td><td>20220322</td></tr><tr><td>16</td><td>1</td><td>11.2</td><td>5.0</td><td>4.4</td><td>2022-03-30 08:00:00</td><td>20220330</td></tr><tr><td>17</td><td>1</td><td>10.5</td><td>225.0</td><td>2.6</td><td>2022-03-03 07:00:00</td><td>20220303</td></tr><tr><td>18</td><td>1</td><td>12.7</td><td>334.0</td><td>4.0</td><td>2022-03-27 05:00:00</td><td>20220327</td></tr><tr><td>19</td><td>1</td><td>13.0</td><td>232.0</td><td>2.1</td><td>2022-03-31 05:00:00</td><td>20220331</td></tr></tbody></table></div>"
      ]
     },
     "metadata": {
      "application/vnd.databricks.v1+output": {
       "addedWidgets": {},
       "aggData": [],
       "aggError": "",
       "aggOverflow": false,
       "aggSchema": [],
       "aggSeriesLimitReached": false,
       "aggType": "",
       "arguments": {},
       "columnCustomDisplayInfos": {},
       "data": [
        [
         0,
         1,
         9.7,
         44.0,
         2.7,
         "2022-03-07 04:00:00",
         "20220307"
        ],
        [
         1,
         1,
         12.0,
         87.0,
         1.7,
         "2022-03-23 19:00:00",
         "20220323"
        ],
        [
         2,
         1,
         14.8,
         311.0,
         3.8,
         "2022-03-24 15:00:00",
         "20220324"
        ],
        [
         3,
         1,
         13.4,
         321.0,
         2.9,
         "2022-03-30 01:00:00",
         "20220330"
        ],
        [
         4,
         1,
         13.1,
         216.0,
         2.6,
         "2022-03-15 00:00:00",
         "20220315"
        ],
        [
         5,
         1,
         13.8,
         10.0,
         2.6,
         "2022-03-19 03:00:00",
         "20220319"
        ],
        [
         6,
         1,
         10.5,
         195.0,
         2.1,
         "2022-03-30 14:00:00",
         "20220330"
        ],
        [
         7,
         1,
         12.6,
         162.0,
         4.2,
         "2022-03-05 18:00:00",
         "20220305"
        ],
        [
         8,
         1,
         12.2,
         223.0,
         2.4,
         "2022-03-28 12:00:00",
         "20220328"
        ],
        [
         9,
         1,
         9.4,
         126.0,
         3.4,
         "2022-03-04 20:00:00",
         "20220304"
        ],
        [
         10,
         1,
         14.8,
         328.0,
         3.5,
         "2022-03-05 19:00:00",
         "20220305"
        ],
        [
         11,
         1,
         14.7,
         171.0,
         4.0,
         "2022-03-19 04:00:00",
         "20220319"
        ],
        [
         12,
         1,
         9.5,
         144.0,
         2.7,
         "2022-03-20 21:00:00",
         "20220320"
        ],
        [
         13,
         1,
         12.8,
         220.0,
         3.8,
         "2022-03-22 17:00:00",
         "20220322"
        ],
        [
         14,
         1,
         14.7,
         181.0,
         4.3,
         "2022-03-14 16:00:00",
         "20220314"
        ],
        [
         15,
         1,
         11.8,
         173.0,
         4.0,
         "2022-03-22 11:00:00",
         "20220322"
        ],
        [
         16,
         1,
         11.2,
         5.0,
         4.4,
         "2022-03-30 08:00:00",
         "20220330"
        ],
        [
         17,
         1,
         10.5,
         225.0,
         2.6,
         "2022-03-03 07:00:00",
         "20220303"
        ],
        [
         18,
         1,
         12.7,
         334.0,
         4.0,
         "2022-03-27 05:00:00",
         "20220327"
        ],
        [
         19,
         1,
         13.0,
         232.0,
         2.1,
         "2022-03-31 05:00:00",
         "20220331"
        ]
       ],
       "datasetInfos": [],
       "dbfsResultPath": null,
       "isJsonSchema": true,
       "metadata": {},
       "overflow": false,
       "plotOptions": {
        "customPlotOptions": {},
        "displayType": "table",
        "pivotAggregation": null,
        "pivotColumns": null,
        "xColumns": null,
        "yColumns": null
       },
       "removedWidgets": [],
       "schema": [
        {
         "metadata": "{}",
         "name": "record_sid",
         "type": "\"long\""
        },
        {
         "metadata": "{}",
         "name": "turbine_id",
         "type": "\"integer\""
        },
        {
         "metadata": "{}",
         "name": "wind_speed",
         "type": "\"double\""
        },
        {
         "metadata": "{}",
         "name": "wind_direction",
         "type": "\"double\""
        },
        {
         "metadata": "{}",
         "name": "power_output",
         "type": "\"double\""
        },
        {
         "metadata": "{}",
         "name": "timestamp",
         "type": "\"string\""
        },
        {
         "metadata": "{}",
         "name": "date_key",
         "type": "\"string\""
        }
       ],
       "type": "table"
      }
     },
     "output_type": "display_data"
    }
   ],
   "source": [
    "\n",
    "# Step 3: Gold Layer (Star Schema)\n",
    "\n",
    "# Create a fact table\n",
    "silver_df_with_keys = silver_df \\\n",
    "    .withColumn(\"record_sid\", monotonically_increasing_id()) \\\n",
    "    .withColumn(\"date_key\", date_format(to_date(\"timestamp\"), \"yyyyMMdd\"))\n",
    "\n",
    "fact_turbine_metrics = silver_df_with_keys.select(\n",
    "    \"record_sid\",         \n",
    "    \"turbine_id\",    \n",
    "    \"wind_speed\",         \n",
    "    \"wind_direction\",    \n",
    "    \"power_output\",\n",
    "    \"timestamp\",\n",
    "    \"date_key\"                \n",
    ")\n",
    "\n",
    "# Dimension: Time\n",
    "dim_time_df = cleaned_df.select(to_date(\"timestamp\").alias(\"date\")).distinct() \\\n",
    "    .withColumn(\"date_key\", date_format(\"date\", \"yyyyMMdd\")) \\\n",
    "    .withColumn(\"year\", year(\"date\")) \\\n",
    "    .withColumn(\"month\", month(\"date\")) \\\n",
    "    .withColumn(\"day\", dayofmonth(\"date\")) \\\n",
    "    .withColumn(\"day_of_week\", dayofweek(\"date\")) \\\n",
    "    .withColumn(\"quarter\", quarter(\"date\")) \\\n",
    "    .select(\n",
    "        \"date_key\", \"date\", \"year\", \"month\", \"day\", \"day_of_week\", \"quarter\"\n",
    "    )\n",
    "\n",
    "# Dimension: Turbine\n",
    "dim_turbine_df = (\n",
    "    cleaned_df.select(\"turbine_id\")\n",
    "    .distinct()\n",
    "    .withColumn(\"location\", lit(\"unknown\"))      # Replace \"unknown\" with actual defaults if available\n",
    "    .withColumn(\"manufacturer\", lit(\"unknown\")) # Replace \"unknown\" with actual defaults if available\n",
    "    .withColumn(\"capacity\", lit(\"unknown\"))     # Replace \"unknown\" with actual defaults if available\n",
    ")\n",
    "\n",
    "# Save the fact and dimension tables\n",
    "fact_turbine_metrics.write.format(\"delta\").mode(\"overwrite\").saveAsTable(\"gold_fact_turbine_metrics\")\n",
    "dim_time_df.write.format(\"delta\").mode(\"overwrite\").saveAsTable(\"gold_dim_time\")\n",
    "dim_turbine_df.write.format(\"delta\").mode(\"overwrite\").saveAsTable(\"gold_dim_turbine\")\n",
    "\n",
    "display(fact_turbine_metrics.limit(20))"
   ]
  },
  {
   "cell_type": "markdown",
   "metadata": {
    "application/vnd.databricks.v1+cell": {
     "cellMetadata": {
      "byteLimit": 2048000,
      "rowLimit": 10000
     },
     "inputWidgets": {},
     "nuid": "c2f2d4e1-bda5-4f5f-94d2-7325fd6e3b63",
     "showTitle": false,
     "tableResultSettingsMap": {},
     "title": ""
    }
   },
   "source": [
    "Summary statistics"
   ]
  },
  {
   "cell_type": "code",
   "execution_count": 0,
   "metadata": {
    "application/vnd.databricks.v1+cell": {
     "cellMetadata": {
      "byteLimit": 2048000,
      "rowLimit": 10000
     },
     "inputWidgets": {},
     "nuid": "f07a9ec2-b2db-4cb7-9568-99d86e39d5ac",
     "showTitle": false,
     "tableResultSettingsMap": {},
     "title": ""
    }
   },
   "outputs": [
    {
     "output_type": "display_data",
     "data": {
      "text/html": [
       "<style scoped>\n",
       "  .table-result-container {\n",
       "    max-height: 300px;\n",
       "    overflow: auto;\n",
       "  }\n",
       "  table, th, td {\n",
       "    border: 1px solid black;\n",
       "    border-collapse: collapse;\n",
       "  }\n",
       "  th, td {\n",
       "    padding: 5px;\n",
       "  }\n",
       "  th {\n",
       "    text-align: left;\n",
       "  }\n",
       "</style><div class='table-result-container'><table class='table-result'><thead style='background-color: white'><tr><th>turbine_id</th><th>date_key</th><th>min_power_output</th><th>max_power_output</th><th>avg_power_output</th></tr></thead><tbody><tr><td>1</td><td>20220307</td><td>1.9</td><td>4.3</td><td>3.283333333333333</td></tr><tr><td>1</td><td>20220323</td><td>1.7</td><td>4.4</td><td>3.2249999999999996</td></tr><tr><td>1</td><td>20220324</td><td>1.6</td><td>4.3</td><td>2.9791666666666665</td></tr><tr><td>1</td><td>20220330</td><td>1.5</td><td>4.4</td><td>3.0500000000000003</td></tr><tr><td>1</td><td>20220315</td><td>1.6</td><td>4.4</td><td>3.0124999999999997</td></tr><tr><td>1</td><td>20220319</td><td>1.8</td><td>4.5</td><td>3.1250000000000004</td></tr><tr><td>1</td><td>20220305</td><td>1.6</td><td>4.3</td><td>3.2458333333333322</td></tr><tr><td>1</td><td>20220328</td><td>1.6</td><td>4.5</td><td>3.0749999999999993</td></tr><tr><td>1</td><td>20220304</td><td>1.5</td><td>4.4</td><td>2.9874999999999994</td></tr><tr><td>1</td><td>20220320</td><td>1.6</td><td>3.8</td><td>2.716666666666667</td></tr><tr><td>1</td><td>20220322</td><td>1.6</td><td>4.2</td><td>2.8125000000000004</td></tr><tr><td>1</td><td>20220314</td><td>1.6</td><td>4.3</td><td>3.025</td></tr><tr><td>1</td><td>20220303</td><td>1.6</td><td>4.4</td><td>2.9250000000000003</td></tr><tr><td>1</td><td>20220327</td><td>1.7</td><td>4.4</td><td>3.1</td></tr><tr><td>1</td><td>20220331</td><td>1.6</td><td>4.3</td><td>2.958333333333334</td></tr><tr><td>1</td><td>20220306</td><td>1.5</td><td>4.4</td><td>2.958333333333334</td></tr><tr><td>1</td><td>20220308</td><td>1.7</td><td>4.5</td><td>3.291666666666666</td></tr><tr><td>1</td><td>20220329</td><td>1.5</td><td>4.5</td><td>3.1291666666666664</td></tr><tr><td>1</td><td>20220311</td><td>1.5</td><td>4.4</td><td>2.5750000000000006</td></tr><tr><td>1</td><td>20220326</td><td>1.5</td><td>4.5</td><td>2.816666666666667</td></tr></tbody></table></div>"
      ]
     },
     "metadata": {
      "application/vnd.databricks.v1+output": {
       "addedWidgets": {},
       "aggData": [],
       "aggError": "",
       "aggOverflow": false,
       "aggSchema": [],
       "aggSeriesLimitReached": false,
       "aggType": "",
       "arguments": {},
       "columnCustomDisplayInfos": {},
       "data": [
        [
         1,
         "20220307",
         1.9,
         4.3,
         3.283333333333333
        ],
        [
         1,
         "20220323",
         1.7,
         4.4,
         3.2249999999999996
        ],
        [
         1,
         "20220324",
         1.6,
         4.3,
         2.9791666666666665
        ],
        [
         1,
         "20220330",
         1.5,
         4.4,
         3.0500000000000003
        ],
        [
         1,
         "20220315",
         1.6,
         4.4,
         3.0124999999999997
        ],
        [
         1,
         "20220319",
         1.8,
         4.5,
         3.1250000000000004
        ],
        [
         1,
         "20220305",
         1.6,
         4.3,
         3.2458333333333322
        ],
        [
         1,
         "20220328",
         1.6,
         4.5,
         3.0749999999999993
        ],
        [
         1,
         "20220304",
         1.5,
         4.4,
         2.9874999999999994
        ],
        [
         1,
         "20220320",
         1.6,
         3.8,
         2.716666666666667
        ],
        [
         1,
         "20220322",
         1.6,
         4.2,
         2.8125000000000004
        ],
        [
         1,
         "20220314",
         1.6,
         4.3,
         3.025
        ],
        [
         1,
         "20220303",
         1.6,
         4.4,
         2.9250000000000003
        ],
        [
         1,
         "20220327",
         1.7,
         4.4,
         3.1
        ],
        [
         1,
         "20220331",
         1.6,
         4.3,
         2.958333333333334
        ],
        [
         1,
         "20220306",
         1.5,
         4.4,
         2.958333333333334
        ],
        [
         1,
         "20220308",
         1.7,
         4.5,
         3.291666666666666
        ],
        [
         1,
         "20220329",
         1.5,
         4.5,
         3.1291666666666664
        ],
        [
         1,
         "20220311",
         1.5,
         4.4,
         2.5750000000000006
        ],
        [
         1,
         "20220326",
         1.5,
         4.5,
         2.816666666666667
        ]
       ],
       "datasetInfos": [],
       "dbfsResultPath": null,
       "isJsonSchema": true,
       "metadata": {},
       "overflow": false,
       "plotOptions": {
        "customPlotOptions": {},
        "displayType": "table",
        "pivotAggregation": null,
        "pivotColumns": null,
        "xColumns": null,
        "yColumns": null
       },
       "removedWidgets": [],
       "schema": [
        {
         "metadata": "{}",
         "name": "turbine_id",
         "type": "\"integer\""
        },
        {
         "metadata": "{}",
         "name": "date_key",
         "type": "\"string\""
        },
        {
         "metadata": "{}",
         "name": "min_power_output",
         "type": "\"double\""
        },
        {
         "metadata": "{}",
         "name": "max_power_output",
         "type": "\"double\""
        },
        {
         "metadata": "{}",
         "name": "avg_power_output",
         "type": "\"double\""
        }
       ],
       "type": "table"
      }
     },
     "output_type": "display_data"
    }
   ],
   "source": [
    "# Define the time period (e.g., extract the date for grouping by 24 hours)\n",
    "daily_summary_df = fact_turbine_metrics \\\n",
    "    .groupBy(\"turbine_id\", \"date_key\") \\\n",
    "    .agg(\n",
    "        min(\"power_output\").alias(\"min_power_output\"),\n",
    "        max(\"power_output\").alias(\"max_power_output\"),\n",
    "        avg(\"power_output\").alias(\"avg_power_output\")\n",
    "    )\n",
    "    \n",
    "daily_summary_df.write.format(\"delta\").mode(\"overwrite\").saveAsTable(\"gold_daily_summary\")\n",
    "display(daily_summary_df.limit(20))"
   ]
  },
  {
   "cell_type": "code",
   "execution_count": 0,
   "metadata": {
    "application/vnd.databricks.v1+cell": {
     "cellMetadata": {
      "byteLimit": 2048000,
      "rowLimit": 10000
     },
     "inputWidgets": {},
     "nuid": "75e7e402-5b3c-414e-9c48-0963bda7d039",
     "showTitle": false,
     "tableResultSettingsMap": {},
     "title": ""
    }
   },
   "outputs": [
    {
     "output_type": "display_data",
     "data": {
      "text/html": [
       "<style scoped>\n",
       "  .table-result-container {\n",
       "    max-height: 300px;\n",
       "    overflow: auto;\n",
       "  }\n",
       "  table, th, td {\n",
       "    border: 1px solid black;\n",
       "    border-collapse: collapse;\n",
       "  }\n",
       "  th, td {\n",
       "    padding: 5px;\n",
       "  }\n",
       "  th {\n",
       "    text-align: left;\n",
       "  }\n",
       "</style><div class='table-result-container'><table class='table-result'><thead style='background-color: white'><tr><th>turbine_id</th><th>date_key</th><th>power_output</th><th>mean_power_output</th><th>stddev_power_output</th></tr></thead><tbody><tr><td>1</td><td>20220305</td><td>1.6</td><td>3.2458333333333322</td><td>0.7150428182172436</td></tr><tr><td>1</td><td>20220329</td><td>1.5</td><td>3.1291666666666664</td><td>0.8110536178419356</td></tr><tr><td>1</td><td>20220311</td><td>4.4</td><td>2.5750000000000006</td><td>0.779771426932835</td></tr><tr><td>1</td><td>20220326</td><td>4.5</td><td>2.816666666666667</td><td>0.8354465958352776</td></tr><tr><td>2</td><td>20220331</td><td>1.6</td><td>3.2291666666666674</td><td>0.7123013325874079</td></tr><tr><td>2</td><td>20220322</td><td>4.5</td><td>2.920833333333334</td><td>0.7835144718103375</td></tr><tr><td>2</td><td>20220328</td><td>4.5</td><td>2.858333333333333</td><td>0.8139632865701364</td></tr><tr><td>2</td><td>20220302</td><td>4.2</td><td>2.4666666666666663</td><td>0.7545033878776428</td></tr><tr><td>3</td><td>20220317</td><td>1.5</td><td>3.2499999999999996</td><td>0.8387361091961912</td></tr><tr><td>3</td><td>20220321</td><td>1.5</td><td>3.3416666666666663</td><td>0.8581662282811638</td></tr><tr><td>3</td><td>20220303</td><td>1.9</td><td>3.2541666666666664</td><td>0.6691845567662875</td></tr><tr><td>3</td><td>20220303</td><td>1.8</td><td>3.2541666666666664</td><td>0.6691845567662875</td></tr><tr><td>3</td><td>20220305</td><td>4.5</td><td>2.6208333333333327</td><td>0.8214404986081603</td></tr><tr><td>4</td><td>20220325</td><td>1.7</td><td>3.2708333333333335</td><td>0.7664027586105083</td></tr><tr><td>4</td><td>20220326</td><td>4.4</td><td>2.470833333333333</td><td>0.8400202723571704</td></tr><tr><td>4</td><td>20220311</td><td>4.3</td><td>2.4791666666666665</td><td>0.7300858595527244</td></tr><tr><td>4</td><td>20220320</td><td>4.1</td><td>2.504166666666667</td><td>0.75841893130533</td></tr><tr><td>4</td><td>20220320</td><td>4.2</td><td>2.504166666666667</td><td>0.75841893130533</td></tr><tr><td>4</td><td>20220305</td><td>4.5</td><td>2.8375000000000004</td><td>0.7394548520774408</td></tr><tr><td>4</td><td>20220305</td><td>4.4</td><td>2.8375000000000004</td><td>0.7394548520774408</td></tr></tbody></table></div>"
      ]
     },
     "metadata": {
      "application/vnd.databricks.v1+output": {
       "addedWidgets": {},
       "aggData": [],
       "aggError": "",
       "aggOverflow": false,
       "aggSchema": [],
       "aggSeriesLimitReached": false,
       "aggType": "",
       "arguments": {},
       "columnCustomDisplayInfos": {},
       "data": [
        [
         1,
         "20220305",
         1.6,
         3.2458333333333322,
         0.7150428182172436
        ],
        [
         1,
         "20220329",
         1.5,
         3.1291666666666664,
         0.8110536178419356
        ],
        [
         1,
         "20220311",
         4.4,
         2.5750000000000006,
         0.779771426932835
        ],
        [
         1,
         "20220326",
         4.5,
         2.816666666666667,
         0.8354465958352776
        ],
        [
         2,
         "20220331",
         1.6,
         3.2291666666666674,
         0.7123013325874079
        ],
        [
         2,
         "20220322",
         4.5,
         2.920833333333334,
         0.7835144718103375
        ],
        [
         2,
         "20220328",
         4.5,
         2.858333333333333,
         0.8139632865701364
        ],
        [
         2,
         "20220302",
         4.2,
         2.4666666666666663,
         0.7545033878776428
        ],
        [
         3,
         "20220317",
         1.5,
         3.2499999999999996,
         0.8387361091961912
        ],
        [
         3,
         "20220321",
         1.5,
         3.3416666666666663,
         0.8581662282811638
        ],
        [
         3,
         "20220303",
         1.9,
         3.2541666666666664,
         0.6691845567662875
        ],
        [
         3,
         "20220303",
         1.8,
         3.2541666666666664,
         0.6691845567662875
        ],
        [
         3,
         "20220305",
         4.5,
         2.6208333333333327,
         0.8214404986081603
        ],
        [
         4,
         "20220325",
         1.7,
         3.2708333333333335,
         0.7664027586105083
        ],
        [
         4,
         "20220326",
         4.4,
         2.470833333333333,
         0.8400202723571704
        ],
        [
         4,
         "20220311",
         4.3,
         2.4791666666666665,
         0.7300858595527244
        ],
        [
         4,
         "20220320",
         4.1,
         2.504166666666667,
         0.75841893130533
        ],
        [
         4,
         "20220320",
         4.2,
         2.504166666666667,
         0.75841893130533
        ],
        [
         4,
         "20220305",
         4.5,
         2.8375000000000004,
         0.7394548520774408
        ],
        [
         4,
         "20220305",
         4.4,
         2.8375000000000004,
         0.7394548520774408
        ]
       ],
       "datasetInfos": [],
       "dbfsResultPath": null,
       "isJsonSchema": true,
       "metadata": {},
       "overflow": false,
       "plotOptions": {
        "customPlotOptions": {},
        "displayType": "table",
        "pivotAggregation": null,
        "pivotColumns": null,
        "xColumns": null,
        "yColumns": null
       },
       "removedWidgets": [],
       "schema": [
        {
         "metadata": "{}",
         "name": "turbine_id",
         "type": "\"integer\""
        },
        {
         "metadata": "{}",
         "name": "date_key",
         "type": "\"string\""
        },
        {
         "metadata": "{}",
         "name": "power_output",
         "type": "\"double\""
        },
        {
         "metadata": "{}",
         "name": "mean_power_output",
         "type": "\"double\""
        },
        {
         "metadata": "{}",
         "name": "stddev_power_output",
         "type": "\"double\""
        }
       ],
       "type": "table"
      }
     },
     "output_type": "display_data"
    }
   ],
   "source": [
    "\n",
    "# Step 1: Calculate mean and standard deviation for each turbine over a given period (e.g., daily)\n",
    "stats_df = fact_turbine_metrics \\\n",
    "    .groupBy(\"turbine_id\", \"date_key\") \\\n",
    "    .agg(\n",
    "        mean(\"power_output\").alias(\"mean_power_output\"),\n",
    "        stddev(\"power_output\").alias(\"stddev_power_output\")\n",
    "    )\n",
    "\n",
    "# Step 2: Join the calculated statistics back to the fact table\n",
    "joined_df = fact_turbine_metrics.join(stats_df, on=[\"turbine_id\", \"date_key\"], how=\"inner\")\n",
    "\n",
    "# Step 3: Identify anomalies (output outside ±2 standard deviations from the mean)\n",
    "anomalies_df = joined_df.filter(\n",
    "    (col(\"power_output\") > col(\"mean_power_output\") + 2 * col(\"stddev_power_output\")) |\n",
    "    (col(\"power_output\") < col(\"mean_power_output\") - 2 * col(\"stddev_power_output\"))\n",
    ").select(\"turbine_id\", \"date_key\", \"power_output\", \"mean_power_output\", \"stddev_power_output\")\n",
    "\n",
    "anomalies_df.write.format(\"delta\").mode(\"overwrite\").saveAsTable(\"gold_anomalies\")\n",
    "display(anomalies_df.limit(20))\n"
   ]
  },
  {
   "cell_type": "markdown",
   "metadata": {
    "application/vnd.databricks.v1+cell": {
     "cellMetadata": {
      "byteLimit": 2048000,
      "rowLimit": 10000
     },
     "inputWidgets": {},
     "nuid": "acc86c28-7625-4904-88d0-80f7938019eb",
     "showTitle": false,
     "tableResultSettingsMap": {},
     "title": ""
    }
   },
   "source": [
    "Machine learning"
   ]
  },
  {
   "cell_type": "code",
   "execution_count": 0,
   "metadata": {
    "application/vnd.databricks.v1+cell": {
     "cellMetadata": {
      "byteLimit": 2048000,
      "rowLimit": 10000
     },
     "inputWidgets": {},
     "nuid": "1fa72d07-7784-4cc6-87f6-229f301e2ecf",
     "showTitle": false,
     "tableResultSettingsMap": {},
     "title": ""
    }
   },
   "outputs": [
    {
     "output_type": "display_data",
     "data": {
      "text/html": [
       "<style scoped>\n",
       "  .table-result-container {\n",
       "    max-height: 300px;\n",
       "    overflow: auto;\n",
       "  }\n",
       "  table, th, td {\n",
       "    border: 1px solid black;\n",
       "    border-collapse: collapse;\n",
       "  }\n",
       "  th, td {\n",
       "    padding: 5px;\n",
       "  }\n",
       "  th {\n",
       "    text-align: left;\n",
       "  }\n",
       "</style><div class='table-result-container'><table class='table-result'><thead style='background-color: white'><tr><th>features</th><th>power_output</th><th>prediction</th></tr></thead><tbody><tr><td>Map(vectorType -> dense, length -> 2, values -> List(9.0, 12.0))</td><td>3.4</td><td>2.9960878042254326</td></tr><tr><td>Map(vectorType -> dense, length -> 2, values -> List(9.0, 26.0))</td><td>1.8</td><td>2.9970752271879713</td></tr><tr><td>Map(vectorType -> dense, length -> 2, values -> List(9.0, 31.0))</td><td>2.8</td><td>2.997427878246021</td></tr><tr><td>Map(vectorType -> dense, length -> 2, values -> List(9.0, 50.0))</td><td>1.9</td><td>2.998767952266609</td></tr><tr><td>Map(vectorType -> dense, length -> 2, values -> List(9.0, 67.0))</td><td>3.3</td><td>2.999966965863978</td></tr><tr><td>Map(vectorType -> dense, length -> 2, values -> List(9.0, 92.0))</td><td>3.1</td><td>3.0017302211542254</td></tr><tr><td>Map(vectorType -> dense, length -> 2, values -> List(9.0, 114.0))</td><td>4.5</td><td>3.0032818858096437</td></tr><tr><td>Map(vectorType -> dense, length -> 2, values -> List(9.0, 144.0))</td><td>3.0</td><td>3.0053977921579413</td></tr><tr><td>Map(vectorType -> dense, length -> 2, values -> List(9.0, 194.0))</td><td>2.3</td><td>3.008924302738437</td></tr><tr><td>Map(vectorType -> dense, length -> 2, values -> List(9.0, 201.0))</td><td>3.3</td><td>3.0094180142197064</td></tr><tr><td>Map(vectorType -> dense, length -> 2, values -> List(9.0, 211.0))</td><td>1.9</td><td>3.010123316335805</td></tr><tr><td>Map(vectorType -> dense, length -> 2, values -> List(9.0, 224.0))</td><td>2.7</td><td>3.011040209086734</td></tr><tr><td>Map(vectorType -> dense, length -> 2, values -> List(9.0, 226.0))</td><td>1.5</td><td>3.011181269509954</td></tr><tr><td>Map(vectorType -> dense, length -> 2, values -> List(9.0, 239.0))</td><td>3.8</td><td>3.012098162260883</td></tr><tr><td>Map(vectorType -> dense, length -> 2, values -> List(9.0, 260.0))</td><td>2.5</td><td>3.013579296704691</td></tr><tr><td>Map(vectorType -> dense, length -> 2, values -> List(9.0, 286.0))</td><td>1.6</td><td>3.015413082206549</td></tr><tr><td>Map(vectorType -> dense, length -> 2, values -> List(9.0, 312.0))</td><td>4.0</td><td>3.0172468677084066</td></tr><tr><td>Map(vectorType -> dense, length -> 2, values -> List(9.1, 12.0))</td><td>2.0</td><td>2.995821894831991</td></tr><tr><td>Map(vectorType -> dense, length -> 2, values -> List(9.1, 31.0))</td><td>2.7</td><td>2.9971619688525792</td></tr><tr><td>Map(vectorType -> dense, length -> 2, values -> List(9.1, 45.0))</td><td>1.7</td><td>2.9981493918151183</td></tr></tbody></table></div>"
      ]
     },
     "metadata": {
      "application/vnd.databricks.v1+output": {
       "addedWidgets": {},
       "aggData": [],
       "aggError": "",
       "aggOverflow": false,
       "aggSchema": [],
       "aggSeriesLimitReached": false,
       "aggType": "",
       "arguments": {},
       "columnCustomDisplayInfos": {},
       "data": [
        [
         {
          "length": 2,
          "values": [
           9.0,
           12.0
          ],
          "vectorType": "dense"
         },
         3.4,
         2.9960878042254326
        ],
        [
         {
          "length": 2,
          "values": [
           9.0,
           26.0
          ],
          "vectorType": "dense"
         },
         1.8,
         2.9970752271879713
        ],
        [
         {
          "length": 2,
          "values": [
           9.0,
           31.0
          ],
          "vectorType": "dense"
         },
         2.8,
         2.997427878246021
        ],
        [
         {
          "length": 2,
          "values": [
           9.0,
           50.0
          ],
          "vectorType": "dense"
         },
         1.9,
         2.998767952266609
        ],
        [
         {
          "length": 2,
          "values": [
           9.0,
           67.0
          ],
          "vectorType": "dense"
         },
         3.3,
         2.999966965863978
        ],
        [
         {
          "length": 2,
          "values": [
           9.0,
           92.0
          ],
          "vectorType": "dense"
         },
         3.1,
         3.0017302211542254
        ],
        [
         {
          "length": 2,
          "values": [
           9.0,
           114.0
          ],
          "vectorType": "dense"
         },
         4.5,
         3.0032818858096437
        ],
        [
         {
          "length": 2,
          "values": [
           9.0,
           144.0
          ],
          "vectorType": "dense"
         },
         3.0,
         3.0053977921579413
        ],
        [
         {
          "length": 2,
          "values": [
           9.0,
           194.0
          ],
          "vectorType": "dense"
         },
         2.3,
         3.008924302738437
        ],
        [
         {
          "length": 2,
          "values": [
           9.0,
           201.0
          ],
          "vectorType": "dense"
         },
         3.3,
         3.0094180142197064
        ],
        [
         {
          "length": 2,
          "values": [
           9.0,
           211.0
          ],
          "vectorType": "dense"
         },
         1.9,
         3.010123316335805
        ],
        [
         {
          "length": 2,
          "values": [
           9.0,
           224.0
          ],
          "vectorType": "dense"
         },
         2.7,
         3.011040209086734
        ],
        [
         {
          "length": 2,
          "values": [
           9.0,
           226.0
          ],
          "vectorType": "dense"
         },
         1.5,
         3.011181269509954
        ],
        [
         {
          "length": 2,
          "values": [
           9.0,
           239.0
          ],
          "vectorType": "dense"
         },
         3.8,
         3.012098162260883
        ],
        [
         {
          "length": 2,
          "values": [
           9.0,
           260.0
          ],
          "vectorType": "dense"
         },
         2.5,
         3.013579296704691
        ],
        [
         {
          "length": 2,
          "values": [
           9.0,
           286.0
          ],
          "vectorType": "dense"
         },
         1.6,
         3.015413082206549
        ],
        [
         {
          "length": 2,
          "values": [
           9.0,
           312.0
          ],
          "vectorType": "dense"
         },
         4.0,
         3.0172468677084066
        ],
        [
         {
          "length": 2,
          "values": [
           9.1,
           12.0
          ],
          "vectorType": "dense"
         },
         2.0,
         2.995821894831991
        ],
        [
         {
          "length": 2,
          "values": [
           9.1,
           31.0
          ],
          "vectorType": "dense"
         },
         2.7,
         2.9971619688525792
        ],
        [
         {
          "length": 2,
          "values": [
           9.1,
           45.0
          ],
          "vectorType": "dense"
         },
         1.7,
         2.9981493918151183
        ]
       ],
       "datasetInfos": [],
       "dbfsResultPath": null,
       "isJsonSchema": true,
       "metadata": {},
       "overflow": false,
       "plotOptions": {
        "customPlotOptions": {},
        "displayType": "table",
        "pivotAggregation": null,
        "pivotColumns": null,
        "xColumns": null,
        "yColumns": null
       },
       "removedWidgets": [],
       "schema": [
        {
         "metadata": "{\"ml_attr\":{\"attrs\":{\"numeric\":[{\"idx\":0,\"name\":\"wind_speed\"},{\"idx\":1,\"name\":\"wind_direction\"}]},\"num_attrs\":2}}",
         "name": "features",
         "type": "{\"type\":\"udt\",\"class\":\"org.apache.spark.ml.linalg.VectorUDT\",\"pyClass\":\"pyspark.ml.linalg.VectorUDT\",\"sqlType\":{\"type\":\"struct\",\"fields\":[{\"name\":\"type\",\"type\":\"byte\",\"nullable\":false,\"metadata\":{}},{\"name\":\"size\",\"type\":\"integer\",\"nullable\":true,\"metadata\":{}},{\"name\":\"indices\",\"type\":{\"type\":\"array\",\"elementType\":\"integer\",\"containsNull\":false},\"nullable\":true,\"metadata\":{}},{\"name\":\"values\",\"type\":{\"type\":\"array\",\"elementType\":\"double\",\"containsNull\":false},\"nullable\":true,\"metadata\":{}}]}}"
        },
        {
         "metadata": "{}",
         "name": "power_output",
         "type": "\"double\""
        },
        {
         "metadata": "{\"ml_attr\":{}}",
         "name": "prediction",
         "type": "\"double\""
        }
       ],
       "type": "table"
      }
     },
     "output_type": "display_data"
    }
   ],
   "source": [
    "from pyspark.ml.feature import VectorAssembler\n",
    "from pyspark.ml.regression import LinearRegression\n",
    "\n",
    "# Prepare the data\n",
    "features = [\"wind_speed\", \"wind_direction\"]\n",
    "assembler = VectorAssembler(inputCols=features, outputCol=\"features\")\n",
    "data = assembler.transform(fact_turbine_metrics).select(\"features\", \"power_output\")\n",
    "\n",
    "# Split into training and test sets\n",
    "train_data, test_data = data.randomSplit([0.8, 0.2], seed=42)\n",
    "\n",
    "# Train a Linear Regression model\n",
    "lr = LinearRegression(featuresCol=\"features\", labelCol=\"power_output\")\n",
    "lr_model = lr.fit(train_data)\n",
    "\n",
    "# Evaluate the model\n",
    "predictions = lr_model.transform(test_data)\n",
    "display(predictions.select(\"features\", \"power_output\", \"prediction\").limit(20))\n"
   ]
  },
  {
   "cell_type": "code",
   "execution_count": 0,
   "metadata": {
    "application/vnd.databricks.v1+cell": {
     "cellMetadata": {
      "byteLimit": 2048000,
      "rowLimit": 10000
     },
     "inputWidgets": {},
     "nuid": "9ce1550c-808e-48e0-81aa-7780986c2026",
     "showTitle": false,
     "tableResultSettingsMap": {},
     "title": ""
    }
   },
   "outputs": [
    {
     "output_type": "display_data",
     "data": {
      "text/html": [
       "<style scoped>\n",
       "  .table-result-container {\n",
       "    max-height: 300px;\n",
       "    overflow: auto;\n",
       "  }\n",
       "  table, th, td {\n",
       "    border: 1px solid black;\n",
       "    border-collapse: collapse;\n",
       "  }\n",
       "  th, td {\n",
       "    padding: 5px;\n",
       "  }\n",
       "  th {\n",
       "    text-align: left;\n",
       "  }\n",
       "</style><div class='table-result-container'><table class='table-result'><thead style='background-color: white'><tr><th>features</th><th>label</th><th>prediction</th><th>probability</th></tr></thead><tbody><tr><td>Map(vectorType -> dense, length -> 2, values -> List(9.0, 12.0))</td><td>1</td><td>1.0</td><td>Map(vectorType -> dense, length -> 2, values -> List(0.0, 1.0))</td></tr><tr><td>Map(vectorType -> dense, length -> 2, values -> List(9.0, 26.0))</td><td>1</td><td>1.0</td><td>Map(vectorType -> dense, length -> 2, values -> List(0.0, 1.0))</td></tr><tr><td>Map(vectorType -> dense, length -> 2, values -> List(9.0, 31.0))</td><td>1</td><td>1.0</td><td>Map(vectorType -> dense, length -> 2, values -> List(0.0, 1.0))</td></tr><tr><td>Map(vectorType -> dense, length -> 2, values -> List(9.0, 50.0))</td><td>1</td><td>1.0</td><td>Map(vectorType -> dense, length -> 2, values -> List(0.0, 1.0))</td></tr><tr><td>Map(vectorType -> dense, length -> 2, values -> List(9.0, 67.0))</td><td>1</td><td>1.0</td><td>Map(vectorType -> dense, length -> 2, values -> List(0.0, 1.0))</td></tr><tr><td>Map(vectorType -> dense, length -> 2, values -> List(9.0, 92.0))</td><td>1</td><td>1.0</td><td>Map(vectorType -> dense, length -> 2, values -> List(0.0, 1.0))</td></tr><tr><td>Map(vectorType -> dense, length -> 2, values -> List(9.0, 114.0))</td><td>1</td><td>1.0</td><td>Map(vectorType -> dense, length -> 2, values -> List(0.0, 1.0))</td></tr><tr><td>Map(vectorType -> dense, length -> 2, values -> List(9.0, 144.0))</td><td>1</td><td>1.0</td><td>Map(vectorType -> dense, length -> 2, values -> List(0.0, 1.0))</td></tr><tr><td>Map(vectorType -> dense, length -> 2, values -> List(9.0, 194.0))</td><td>1</td><td>1.0</td><td>Map(vectorType -> dense, length -> 2, values -> List(0.0, 1.0))</td></tr><tr><td>Map(vectorType -> dense, length -> 2, values -> List(9.0, 201.0))</td><td>1</td><td>1.0</td><td>Map(vectorType -> dense, length -> 2, values -> List(0.0, 1.0))</td></tr><tr><td>Map(vectorType -> dense, length -> 2, values -> List(9.0, 211.0))</td><td>1</td><td>1.0</td><td>Map(vectorType -> dense, length -> 2, values -> List(0.0, 1.0))</td></tr><tr><td>Map(vectorType -> dense, length -> 2, values -> List(9.0, 224.0))</td><td>1</td><td>1.0</td><td>Map(vectorType -> dense, length -> 2, values -> List(0.0, 1.0))</td></tr><tr><td>Map(vectorType -> dense, length -> 2, values -> List(9.0, 226.0))</td><td>1</td><td>1.0</td><td>Map(vectorType -> dense, length -> 2, values -> List(0.0, 1.0))</td></tr><tr><td>Map(vectorType -> dense, length -> 2, values -> List(9.0, 239.0))</td><td>1</td><td>1.0</td><td>Map(vectorType -> dense, length -> 2, values -> List(0.0, 1.0))</td></tr><tr><td>Map(vectorType -> dense, length -> 2, values -> List(9.0, 260.0))</td><td>1</td><td>1.0</td><td>Map(vectorType -> dense, length -> 2, values -> List(0.0, 1.0))</td></tr><tr><td>Map(vectorType -> dense, length -> 2, values -> List(9.0, 286.0))</td><td>1</td><td>1.0</td><td>Map(vectorType -> dense, length -> 2, values -> List(0.0, 1.0))</td></tr><tr><td>Map(vectorType -> dense, length -> 2, values -> List(9.0, 312.0))</td><td>1</td><td>1.0</td><td>Map(vectorType -> dense, length -> 2, values -> List(0.0, 1.0))</td></tr><tr><td>Map(vectorType -> dense, length -> 2, values -> List(9.1, 12.0))</td><td>1</td><td>1.0</td><td>Map(vectorType -> dense, length -> 2, values -> List(0.0, 1.0))</td></tr><tr><td>Map(vectorType -> dense, length -> 2, values -> List(9.1, 31.0))</td><td>1</td><td>1.0</td><td>Map(vectorType -> dense, length -> 2, values -> List(0.0, 1.0))</td></tr><tr><td>Map(vectorType -> dense, length -> 2, values -> List(9.1, 45.0))</td><td>1</td><td>1.0</td><td>Map(vectorType -> dense, length -> 2, values -> List(0.0, 1.0))</td></tr></tbody></table></div>"
      ]
     },
     "metadata": {
      "application/vnd.databricks.v1+output": {
       "addedWidgets": {},
       "aggData": [],
       "aggError": "",
       "aggOverflow": false,
       "aggSchema": [],
       "aggSeriesLimitReached": false,
       "aggType": "",
       "arguments": {},
       "columnCustomDisplayInfos": {},
       "data": [
        [
         {
          "length": 2,
          "values": [
           9.0,
           12.0
          ],
          "vectorType": "dense"
         },
         1,
         1.0,
         {
          "length": 2,
          "values": [
           0.0,
           1.0
          ],
          "vectorType": "dense"
         }
        ],
        [
         {
          "length": 2,
          "values": [
           9.0,
           26.0
          ],
          "vectorType": "dense"
         },
         1,
         1.0,
         {
          "length": 2,
          "values": [
           0.0,
           1.0
          ],
          "vectorType": "dense"
         }
        ],
        [
         {
          "length": 2,
          "values": [
           9.0,
           31.0
          ],
          "vectorType": "dense"
         },
         1,
         1.0,
         {
          "length": 2,
          "values": [
           0.0,
           1.0
          ],
          "vectorType": "dense"
         }
        ],
        [
         {
          "length": 2,
          "values": [
           9.0,
           50.0
          ],
          "vectorType": "dense"
         },
         1,
         1.0,
         {
          "length": 2,
          "values": [
           0.0,
           1.0
          ],
          "vectorType": "dense"
         }
        ],
        [
         {
          "length": 2,
          "values": [
           9.0,
           67.0
          ],
          "vectorType": "dense"
         },
         1,
         1.0,
         {
          "length": 2,
          "values": [
           0.0,
           1.0
          ],
          "vectorType": "dense"
         }
        ],
        [
         {
          "length": 2,
          "values": [
           9.0,
           92.0
          ],
          "vectorType": "dense"
         },
         1,
         1.0,
         {
          "length": 2,
          "values": [
           0.0,
           1.0
          ],
          "vectorType": "dense"
         }
        ],
        [
         {
          "length": 2,
          "values": [
           9.0,
           114.0
          ],
          "vectorType": "dense"
         },
         1,
         1.0,
         {
          "length": 2,
          "values": [
           0.0,
           1.0
          ],
          "vectorType": "dense"
         }
        ],
        [
         {
          "length": 2,
          "values": [
           9.0,
           144.0
          ],
          "vectorType": "dense"
         },
         1,
         1.0,
         {
          "length": 2,
          "values": [
           0.0,
           1.0
          ],
          "vectorType": "dense"
         }
        ],
        [
         {
          "length": 2,
          "values": [
           9.0,
           194.0
          ],
          "vectorType": "dense"
         },
         1,
         1.0,
         {
          "length": 2,
          "values": [
           0.0,
           1.0
          ],
          "vectorType": "dense"
         }
        ],
        [
         {
          "length": 2,
          "values": [
           9.0,
           201.0
          ],
          "vectorType": "dense"
         },
         1,
         1.0,
         {
          "length": 2,
          "values": [
           0.0,
           1.0
          ],
          "vectorType": "dense"
         }
        ],
        [
         {
          "length": 2,
          "values": [
           9.0,
           211.0
          ],
          "vectorType": "dense"
         },
         1,
         1.0,
         {
          "length": 2,
          "values": [
           0.0,
           1.0
          ],
          "vectorType": "dense"
         }
        ],
        [
         {
          "length": 2,
          "values": [
           9.0,
           224.0
          ],
          "vectorType": "dense"
         },
         1,
         1.0,
         {
          "length": 2,
          "values": [
           0.0,
           1.0
          ],
          "vectorType": "dense"
         }
        ],
        [
         {
          "length": 2,
          "values": [
           9.0,
           226.0
          ],
          "vectorType": "dense"
         },
         1,
         1.0,
         {
          "length": 2,
          "values": [
           0.0,
           1.0
          ],
          "vectorType": "dense"
         }
        ],
        [
         {
          "length": 2,
          "values": [
           9.0,
           239.0
          ],
          "vectorType": "dense"
         },
         1,
         1.0,
         {
          "length": 2,
          "values": [
           0.0,
           1.0
          ],
          "vectorType": "dense"
         }
        ],
        [
         {
          "length": 2,
          "values": [
           9.0,
           260.0
          ],
          "vectorType": "dense"
         },
         1,
         1.0,
         {
          "length": 2,
          "values": [
           0.0,
           1.0
          ],
          "vectorType": "dense"
         }
        ],
        [
         {
          "length": 2,
          "values": [
           9.0,
           286.0
          ],
          "vectorType": "dense"
         },
         1,
         1.0,
         {
          "length": 2,
          "values": [
           0.0,
           1.0
          ],
          "vectorType": "dense"
         }
        ],
        [
         {
          "length": 2,
          "values": [
           9.0,
           312.0
          ],
          "vectorType": "dense"
         },
         1,
         1.0,
         {
          "length": 2,
          "values": [
           0.0,
           1.0
          ],
          "vectorType": "dense"
         }
        ],
        [
         {
          "length": 2,
          "values": [
           9.1,
           12.0
          ],
          "vectorType": "dense"
         },
         1,
         1.0,
         {
          "length": 2,
          "values": [
           0.0,
           1.0
          ],
          "vectorType": "dense"
         }
        ],
        [
         {
          "length": 2,
          "values": [
           9.1,
           31.0
          ],
          "vectorType": "dense"
         },
         1,
         1.0,
         {
          "length": 2,
          "values": [
           0.0,
           1.0
          ],
          "vectorType": "dense"
         }
        ],
        [
         {
          "length": 2,
          "values": [
           9.1,
           45.0
          ],
          "vectorType": "dense"
         },
         1,
         1.0,
         {
          "length": 2,
          "values": [
           0.0,
           1.0
          ],
          "vectorType": "dense"
         }
        ]
       ],
       "datasetInfos": [],
       "dbfsResultPath": null,
       "isJsonSchema": true,
       "metadata": {},
       "overflow": false,
       "plotOptions": {
        "customPlotOptions": {},
        "displayType": "table",
        "pivotAggregation": null,
        "pivotColumns": null,
        "xColumns": null,
        "yColumns": null
       },
       "removedWidgets": [],
       "schema": [
        {
         "metadata": "{\"ml_attr\":{\"attrs\":{\"numeric\":[{\"idx\":0,\"name\":\"wind_speed\"},{\"idx\":1,\"name\":\"wind_direction\"}]},\"num_attrs\":2}}",
         "name": "features",
         "type": "{\"type\":\"udt\",\"class\":\"org.apache.spark.ml.linalg.VectorUDT\",\"pyClass\":\"pyspark.ml.linalg.VectorUDT\",\"sqlType\":{\"type\":\"struct\",\"fields\":[{\"name\":\"type\",\"type\":\"byte\",\"nullable\":false,\"metadata\":{}},{\"name\":\"size\",\"type\":\"integer\",\"nullable\":true,\"metadata\":{}},{\"name\":\"indices\",\"type\":{\"type\":\"array\",\"elementType\":\"integer\",\"containsNull\":false},\"nullable\":true,\"metadata\":{}},{\"name\":\"values\",\"type\":{\"type\":\"array\",\"elementType\":\"double\",\"containsNull\":false},\"nullable\":true,\"metadata\":{}}]}}"
        },
        {
         "metadata": "{}",
         "name": "label",
         "type": "\"integer\""
        },
        {
         "metadata": "{\"ml_attr\":{\"type\":\"nominal\",\"num_vals\":2}}",
         "name": "prediction",
         "type": "\"double\""
        },
        {
         "metadata": "{\"ml_attr\":{\"num_attrs\":2}}",
         "name": "probability",
         "type": "{\"type\":\"udt\",\"class\":\"org.apache.spark.ml.linalg.VectorUDT\",\"pyClass\":\"pyspark.ml.linalg.VectorUDT\",\"sqlType\":{\"type\":\"struct\",\"fields\":[{\"name\":\"type\",\"type\":\"byte\",\"nullable\":false,\"metadata\":{}},{\"name\":\"size\",\"type\":\"integer\",\"nullable\":true,\"metadata\":{}},{\"name\":\"indices\",\"type\":{\"type\":\"array\",\"elementType\":\"integer\",\"containsNull\":false},\"nullable\":true,\"metadata\":{}},{\"name\":\"values\",\"type\":{\"type\":\"array\",\"elementType\":\"double\",\"containsNull\":false},\"nullable\":true,\"metadata\":{}}]}}"
        }
       ],
       "type": "table"
      }
     },
     "output_type": "display_data"
    }
   ],
   "source": [
    "from pyspark.ml.classification import LogisticRegression\n",
    "\n",
    "# Label data for anomalies (e.g., power_output < threshold)\n",
    "threshold = 100  # Example threshold\n",
    "labeled_df = fact_turbine_metrics.withColumn(\n",
    "    \"label\", when(col(\"power_output\") < threshold, 1).otherwise(0)\n",
    ")\n",
    "\n",
    "# Prepare the data\n",
    "features = [\"wind_speed\", \"wind_direction\"]\n",
    "assembler = VectorAssembler(inputCols=features, outputCol=\"features\")\n",
    "data = assembler.transform(labeled_df).select(\"features\", \"label\")\n",
    "\n",
    "# Split into training and test sets\n",
    "train_data, test_data = data.randomSplit([0.8, 0.2], seed=42)\n",
    "\n",
    "# Train a Logistic Regression model\n",
    "lr = LogisticRegression(featuresCol=\"features\", labelCol=\"label\")\n",
    "lr_model = lr.fit(train_data)\n",
    "\n",
    "# Evaluate the model\n",
    "predictions = lr_model.transform(test_data)\n",
    "display(predictions.select(\"features\", \"label\", \"prediction\", \"probability\").limit(20))\n"
   ]
  },
  {
   "cell_type": "code",
   "execution_count": 0,
   "metadata": {
    "application/vnd.databricks.v1+cell": {
     "cellMetadata": {},
     "inputWidgets": {},
     "nuid": "5855ee19-31f0-4c12-9dcc-35ef2fe413dc",
     "showTitle": false,
     "tableResultSettingsMap": {},
     "title": ""
    }
   },
   "outputs": [],
   "source": []
  }
 ],
 "metadata": {
  "application/vnd.databricks.v1+notebook": {
   "computePreferences": null,
   "dashboards": [],
   "environmentMetadata": {
    "base_environment": "",
    "client": "1"
   },
   "language": "python",
   "notebookMetadata": {
    "pythonIndentUnit": 4
   },
   "notebookName": "Wind Turbines",
   "widgets": {}
  }
 },
 "nbformat": 4,
 "nbformat_minor": 0
}
